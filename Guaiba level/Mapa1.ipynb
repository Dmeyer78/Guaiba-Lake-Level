{
 "cells": [
  {
   "cell_type": "code",
   "execution_count": null,
   "id": "86f9d4bf",
   "metadata": {},
   "outputs": [],
   "source": [
    "import pandas as pd\n",
    "import matplotlib.pyplot as plt\n",
    "\n",
    "# Carregar os dados\n",
    "arquivo = \"Dados_Nível_Guaiba_2024.csv\"\n",
    "df = pd.read_csv(arquivo, sep=';', encoding='utf-8')\n",
    "\n",
    "# Converter a coluna de data para o formato datetime\n",
    "df['Data/Hora'] = pd.to_datetime(df['Data/Hora'], dayfirst=True)\n",
    "\n",
    "# Renomear colunas para nomes mais curtos\n",
    "df.rename(columns={\"Data/Hora\": \"Date\", \"Vazão (m³/s)\": \"Guaíba Lake Level (m)\"}, inplace=True)\n",
    "\n",
    "# Criar o gráfico\n",
    "plt.figure(figsize=(12, 6))\n",
    "plt.plot(df['Date'], df['Guaíba Lake Level (m)'], color='blue', linewidth=1.5)\n",
    "\n",
    "# Adicionar rótulos e título\n",
    "plt.xlabel(\"Date\")\n",
    "plt.ylabel(\"Guaíba Lake Level (m³/s)\")\n",
    "plt.title(\"Guaíba Lake Level Over Time\")\n",
    "plt.grid(True)\n",
    "plt.tight_layout()\n",
    "\n",
    "# Mostrar o gráfico\n",
    "plt.show()\n"
   ]
  }
 ],
 "metadata": {
  "language_info": {
   "name": "python"
  }
 },
 "nbformat": 4,
 "nbformat_minor": 5
}
